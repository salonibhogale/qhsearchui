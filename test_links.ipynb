{
 "cells": [
  {
   "cell_type": "code",
   "execution_count": null,
   "metadata": {},
   "outputs": [],
   "source": [
    "import pandas as pd\n",
    "import os\n",
    "import ndjson\n",
    "import time\n",
    "import requests\n",
    "from bs4 import BeautifulSoup as soupify"
   ]
  },
  {
   "cell_type": "code",
   "execution_count": null,
   "metadata": {},
   "outputs": [],
   "source": [
    "# function to test the link\n",
    "def test_link(link):\n",
    "    headers = {'User-Agent': \"Mozilla/5.0 (Windows NT 10.0; Win64; x64) AppleWebKit/537.36 (KHTML, like Gecko) Chrome/42.0.2311.135 Safari/537.36 Edge/12.246\"} \n",
    "    \n",
    "    # link \n",
    "    r = requests.get(link, headers=headers, verify=False)\n",
    "    content = soupify(r.text, \"html.parser\") \n",
    "    if content.find(id = \"ContentPlaceHolder1_HyperLink1\") or content.find(id = \"ContentPlaceHolder1_HyperLink2\") or content.find(id = \"ContentPlaceHolder1_lnkPdfDownload\"):\n",
    "        status = \"OK\"\n",
    "    else:\n",
    "        status = \"Link Not on page\"\n",
    "    return status"
   ]
  },
  {
   "cell_type": "code",
   "execution_count": null,
   "metadata": {},
   "outputs": [],
   "source": [
    "tar_folder = os.path.join('data')\n",
    "tar_files = [i for i in os.listdir(tar_folder) if(i.endswith(\"ndjson\"))]"
   ]
  },
  {
   "cell_type": "code",
   "execution_count": null,
   "metadata": {},
   "outputs": [],
   "source": [
    "all_df = pd.DataFrame()\n",
    "\n",
    "for tar_file in tar_files:\n",
    "    tmp_df = pd.read_json(os.path.join(tar_folder, tar_file), lines = True)\n",
    "    tmp_df = tmp_df.dropna(subset = ['Q_No'], axis = 'index')\n",
    "    tmp_df['src_file'] = tar_file\n",
    "    all_df = pd.concat([all_df, tmp_df])"
   ]
  },
  {
   "cell_type": "code",
   "execution_count": null,
   "metadata": {},
   "outputs": [],
   "source": [
    "# update the link \n",
    "all_df['New_Link'] = all_df['Q_Link'].apply(lambda x: x.replace('http://164.100.47.194/Loksabha/', 'https://loksabha.nic.in/'))"
   ]
  },
  {
   "cell_type": "code",
   "execution_count": null,
   "metadata": {},
   "outputs": [],
   "source": [
    "new_df = all_df.copy()\n",
    "new_df[\"Status\"] = \"\""
   ]
  },
  {
   "cell_type": "code",
   "execution_count": null,
   "metadata": {},
   "outputs": [],
   "source": [
    "# test updated link\n",
    "# save status\n",
    "test_index = range(1, len(new_df), 3000)\n",
    "for index in test_index:\n",
    "    temp_link = new_df.iloc[index]['Q_Link']\n",
    "    link_status = test_link(temp_link)\n",
    "    new_df.loc[index, ['Status']] = link_status\n",
    "    print(link_status)\n",
    "    time.sleep(0.5)"
   ]
  },
  {
   "cell_type": "code",
   "execution_count": null,
   "metadata": {},
   "outputs": [],
   "source": [
    "new_df['Status'].value_counts()"
   ]
  },
  {
   "cell_type": "code",
   "execution_count": null,
   "metadata": {},
   "outputs": [],
   "source": []
  }
 ],
 "metadata": {
  "kernelspec": {
   "display_name": "base",
   "language": "python",
   "name": "python3"
  },
  "language_info": {
   "codemirror_mode": {
    "name": "ipython",
    "version": 3
   },
   "file_extension": ".py",
   "mimetype": "text/x-python",
   "name": "python",
   "nbconvert_exporter": "python",
   "pygments_lexer": "ipython3",
   "version": "3.9.12"
  },
  "orig_nbformat": 4
 },
 "nbformat": 4,
 "nbformat_minor": 2
}
